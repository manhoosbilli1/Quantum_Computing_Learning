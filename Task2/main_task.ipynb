{
 "cells": [
  {
   "cell_type": "markdown",
   "metadata": {},
   "source": [
    "- Read about multi systems \n",
    "- Read about all basic algorithms and find how it's useful. \n",
    "- Keep the programming simple. \n",
    "- Learn about teleportation and usage of classical bits. "
   ]
  }
 ],
 "metadata": {
  "language_info": {
   "name": "python"
  }
 },
 "nbformat": 4,
 "nbformat_minor": 2
}

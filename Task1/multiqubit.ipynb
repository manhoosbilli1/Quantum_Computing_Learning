{
 "cells": [
  {
   "cell_type": "code",
   "execution_count": null,
   "metadata": {},
   "outputs": [],
   "source": [
    "%pip install qiskit"
   ]
  },
  {
   "cell_type": "code",
   "execution_count": null,
   "metadata": {},
   "outputs": [],
   "source": [
    "%pip install qiskit-ibm-runtime\n",
    "%pip install 'qiskit[visualization]'"
   ]
  },
  {
   "cell_type": "code",
   "execution_count": null,
   "metadata": {},
   "outputs": [],
   "source": [
    "from qiskit import QuantumCircuit\n",
    "from qiskit.quantum_info import Statevector\n",
    "from fractions import Fraction \n",
    "\n",
    "psi = Statevector.from_label('0').tensor(Statevector ([1/12, 1/4])) + Statevector.from_label('1').tensor(Statevector ([1/3, 1/3]))\n",
    "display(psi.draw('latex'))\n",
    "\n",
    "# First system can be isolated in the following way. \n",
    "# find probabillity of measuring 0 in the first system\n",
    "# and for ket 0 in 2nd ystem. \n",
    "# the state becomes ( ket(0)/12 + ket(1)/4) tensor ket0\n",
    "# the probabillity of measuring ket 0 in the second system is 1/3 + 1/12 = 5/12\n",
    "# the probabillity of measuring ket 1 in the second system is 1/4 + 1/3 = 7/12\n",
    "# the probabillity of measuring ket 0 in the first system is 1/3"
   ]
  },
  {
   "cell_type": "code",
   "execution_count": null,
   "metadata": {},
   "outputs": [],
   "source": [
    "#using tensor function\n",
    "from math import sqrt\n",
    "psi1 = Statevector.from_label('0') ^ Statevector.from_label('1')\n",
    "psi2 = Statevector.from_label('0') ^ Statevector.from_label('+')\n",
    "\n",
    "display(psi1.draw('latex'))\n",
    "display(psi2.draw('latex'))\n",
    "\n",
    "psi3 = Statevector.from_label('0') ^ Statevector([1/sqrt(2), 1/sqrt(2)])\n",
    "display(psi3.draw('latex'))"
   ]
  },
  {
   "cell_type": "code",
   "execution_count": null,
   "metadata": {},
   "outputs": [],
   "source": [
    "from qiskit.quantum_info import Operator\n",
    "\n",
    "x = Operator.from_label('X')\n",
    "h = Operator.from_label('H')\n",
    "\n",
    "compositexh = x.tensor(h) \n",
    "compositexi = x.tensor(Operator.from_label('I'))\n",
    "\n",
    "display(compositexh.draw('latex'))\n",
    "display(compositexi.draw('latex'))\n",
    "\n",
    "# the evolution of state vector with xi composite is \n",
    "psi3_evolved = psi3.evolve(compositexi)\n",
    "# For comparison here is the original state vector\n",
    "display(psi3.draw('latex'))\n",
    "print(\"and the evolved is\")\n",
    "display(psi3_evolved.draw('latex'))\n",
    "# As we see that the first qubit has been flipped but 2nd qubit is left alone \n"
   ]
  },
  {
   "cell_type": "code",
   "execution_count": 6,
   "metadata": {},
   "outputs": [],
   "source": [
    "# To calculate the unitary operator u = XZH \n",
    "z = Operator.from_label('Z')\n",
    "u = x.tensor(z).tensor(h) \n"
   ]
  },
  {
   "cell_type": "code",
   "execution_count": null,
   "metadata": {},
   "outputs": [],
   "source": [
    "# Multi qubit gates \n",
    "# cnot gate\n",
    "qc = QuantumCircuit(2)\n",
    "qc.cx(0,1)\n",
    "qc.draw('mpl')\n",
    "display(qc.draw('mpl'))\n",
    "# keep in mind that the control qubit is the first qubit and the target qubit is the second qubit\n",
    "# and that qubits are numbered from right to left. so |01> where 1 is the first qubit and 0 the second. \n",
    "# the cnot gate flips the second qubit if the first qubit is 1."
   ]
  },
  {
   "cell_type": "code",
   "execution_count": null,
   "metadata": {},
   "outputs": [],
   "source": [
    "from qiskit.visualization import plot_state_city\n",
    "from qiskit.visualization import plot_bloch_vector\n",
    "\n",
    "# testing with superposition state \n",
    "qc = QuantumCircuit(2) \n",
    "qc.h(0)\n",
    "qc.draw('mpl')\n",
    "ket0 = Statevector.from_label('0')\n",
    "ket1 = Statevector.from_label('0')\n",
    "ket = ket1.evolve(qc) \n",
    "\n",
    "final_state = ket.tensor(ket1)\n",
    "display(final_state.draw('latex'))\n",
    "# bloch sphere\n",
    "from qiskit.visualization import plot_bloch_vector\n",
    "psi = Statevector([1,0,0])\n",
    "psi1 = Statevector([0,1,0])\n",
    "sup = psi + psi1\n",
    "sup = sup/sup.inner(sup)\n",
    "display(sup.draw('latex'))\n",
    "print(sup.is_valid())\n",
    "plot_bloch_vector(psi1, title=\"New Bloch Sphere\")\n"
   ]
  },
  {
   "cell_type": "code",
   "execution_count": null,
   "metadata": {},
   "outputs": [],
   "source": [
    "# Creating a circuit that creates bell states \n",
    "from qiskit import QuantumCircuit\n",
    "from qiskit.quantum_info import Statevector\n",
    "from qiskit.visualization import plot_state_city\n",
    "from qiskit.visualization import plot_bloch_vector\n",
    "from qiskit.visualization import plot_state_qsphere\n",
    "\n",
    "# Create a quantum circuit with two qubits\n",
    "qc = QuantumCircuit(2)\n",
    "qc.h(0)\n",
    "qc.draw('mpl')"
   ]
  },
  {
   "cell_type": "markdown",
   "metadata": {},
   "source": [
    "## Multi Qubits section. \n",
    "# Seeing how the tensor product is taken."
   ]
  },
  {
   "cell_type": "code",
   "execution_count": null,
   "metadata": {},
   "outputs": [],
   "source": [
    "from qiskit.quantum_info import Statevector \n",
    "from numpy import sqrt \n",
    "\n",
    "#define state vectors or basis vectors \n",
    "zero = Statevector.from_label('0')\n",
    "one = Statevector.from_label('1')\n",
    "psi = zero.tensor(one)\n",
    "display(psi.draw('latex'))\n",
    "\n",
    "# Or having a tenso between 1 and + giving us two states. with 00 and 01 = 0\n",
    "plus = Statevector.from_label('+')\n",
    "psi = one.tensor(plus)\n",
    "display(psi.draw('latex'))\n",
    "\n",
    "# or having  4 states in psi. \n",
    "psi = plus.tensor(plus) \n",
    "display(psi.draw('latex'))"
   ]
  },
  {
   "cell_type": "markdown",
   "metadata": {},
   "source": [
    "### Generating a controlled X gate (CX) gate manually and compare with given by library. "
   ]
  },
  {
   "cell_type": "code",
   "execution_count": null,
   "metadata": {},
   "outputs": [
    {
     "name": "stdout",
     "output_type": "stream",
     "text": [
      "What i generated\n"
     ]
    },
    {
     "data": {
      "text/plain": [
       "array([[1.+0.j, 0.+0.j, 0.+0.j, 0.+0.j],\n",
       "       [0.+0.j, 1.+0.j, 0.+0.j, 0.+0.j],\n",
       "       [0.+0.j, 0.+0.j, 0.+0.j, 1.+0.j],\n",
       "       [0.+0.j, 0.+0.j, 1.+0.j, 0.+0.j]])"
      ]
     },
     "metadata": {},
     "output_type": "display_data"
    },
    {
     "name": "stdout",
     "output_type": "stream",
     "text": [
      "Evolved state with custom CX with |01> as state\n"
     ]
    },
    {
     "data": {
      "text/latex": [
       "$$ |01\\rangle$$"
      ],
      "text/plain": [
       "<IPython.core.display.Latex object>"
      ]
     },
     "metadata": {},
     "output_type": "display_data"
    },
    {
     "name": "stdout",
     "output_type": "stream",
     "text": [
      "Evolved state with qiskit CX with |01>\n"
     ]
    },
    {
     "data": {
      "text/latex": [
       "$$ |11\\rangle$$"
      ],
      "text/plain": [
       "<IPython.core.display.Latex object>"
      ]
     },
     "metadata": {},
     "output_type": "display_data"
    },
    {
     "name": "stdout",
     "output_type": "stream",
     "text": [
      "Evolved state with qiskit CX with |10>\n"
     ]
    },
    {
     "data": {
      "text/latex": [
       "$$ |10\\rangle$$"
      ],
      "text/plain": [
       "<IPython.core.display.Latex object>"
      ]
     },
     "metadata": {},
     "output_type": "display_data"
    },
    {
     "name": "stdout",
     "output_type": "stream",
     "text": [
      "evolved state with custom_x |11>\n"
     ]
    },
    {
     "data": {
      "text/latex": [
       "$$ |10\\rangle$$"
      ],
      "text/plain": [
       "<IPython.core.display.Latex object>"
      ]
     },
     "metadata": {},
     "output_type": "display_data"
    },
    {
     "name": "stdout",
     "output_type": "stream",
     "text": [
      "evolved state with qc_x |11>\n"
     ]
    },
    {
     "data": {
      "text/latex": [
       "$$ |01\\rangle$$"
      ],
      "text/plain": [
       "<IPython.core.display.Latex object>"
      ]
     },
     "metadata": {},
     "output_type": "display_data"
    },
    {
     "name": "stdout",
     "output_type": "stream",
     "text": [
      "Final state\n",
      "evolved state with qc_x now bits reverse |11>\n"
     ]
    },
    {
     "data": {
      "text/latex": [
       "$$ |10\\rangle$$"
      ],
      "text/plain": [
       "<IPython.core.display.Latex object>"
      ]
     },
     "metadata": {},
     "output_type": "display_data"
    }
   ],
   "source": [
    "import numpy as np\n",
    "from qiskit.quantum_info import Statevector, Operator\n",
    "from qiskit.circuit.library import UnitaryGate\n",
    "from qiskit import QuantumCircuit\n",
    "\n",
    "# Define computational basis states |0><0| and |1><1| as outer products\n",
    "zero = np.array([1, 0])  # |0>\n",
    "one = np.array([0, 1])   # |1>\n",
    "\n",
    "outer_zero = np.outer(zero, zero.conj())  # |0><0|\n",
    "outer_one = np.outer(one, one.conj())    # |1><1|\n",
    "\n",
    "# Define identity operator and Pauli-X gate\n",
    "identity = np.eye(2)  # 2x2 Identity matrix\n",
    "x = np.array([[0, 1], [1, 0]])  # Pauli-X gate\n",
    "\n",
    "# Construct controlled-X as |0><0| ⊗ I + |1><1| ⊗ X\n",
    "controlled_x = np.kron(outer_zero, identity) + np.kron(outer_one, x)\n",
    "\n",
    "# Create a UnitaryGate for the custom CX\n",
    "cx_custom = UnitaryGate(controlled_x, label='CX_Custom')\n",
    "cx_custom_matrix = cx_custom.to_matrix()\n",
    "print(\"What i generated\")\n",
    "display(cx_custom_matrix)\n",
    "\n",
    "# Or we can do the following to define. \n",
    "# CX = Operator(\n",
    "#     [[1, 0, 0, 0],\n",
    "#      [0, 1, 0, 0],\n",
    "#      [0, 0, 0, 1],\n",
    "#      [0, 0, 1, 0]])\n",
    "\n",
    "# Create a quantum circuit and add the custom CX gate\n",
    "qc = QuantumCircuit(2)\n",
    "qc.append(cx_custom, [0, 1])  # Control qubit 0, target qubit 1\n",
    "\n",
    "# Passing data from it to see it acts as expected \n",
    "zero = Statevector.from_label('0')\n",
    "one = Statevector.from_label('1')\n",
    "\n",
    "# Initialize the state to |01>\n",
    "psi = zero.tensor(one)\n",
    "psi_evolved = psi.evolve(cx_custom)\n",
    "# We get |01> -> |01> as expected because the controlled bit is 0 target bit is unchanged. \n",
    "psi2 = one.tensor(one)\n",
    "psi2_evolved = psi2.evolve(cx_custom)\n",
    "print(\"Evolved state with custom CX with |01> as state\")\n",
    "display(psi_evolved.draw('latex'))\n",
    "# We get |11> -> |10> as expected because the controlled bit is 1 target bit is flipped.\n",
    "\n",
    "# doing it the short way as expected. \n",
    "myQc = QuantumCircuit(2)\n",
    "myQc.cx(0,1)  # Control qubit 0, target qubit 1\n",
    "psi_evolved2 = psi.evolve(myQc)\n",
    "print(\"Evolved state with qiskit CX with |01>\")\n",
    "display(psi_evolved2.draw('latex'))\n",
    "# Not working as expected. If i give it |01> it should give |01> but it gives |11>\n",
    "# This is because the qiskit uses the qubits from right to left. and left one being q0 \n",
    "# so changing the qubits to |10> will give |11> as expected.\n",
    "\n",
    "# this means that qubit to left is now 0 and to the right is 1 \n",
    "# But it still shows as |01> because the qubits are numbered from right to left.\n",
    "\n",
    "print(\"Evolved state with qiskit CX with |10>\")\n",
    "psi_evolved2 = psi2.evolve(qc)\n",
    "display(psi_evolved2.draw('latex'))\n",
    "\n",
    "\n",
    "# So as expected it counts from right to left with right most being q0 or first bit. \n",
    "\n",
    "\n",
    "# Practicing some more. \n",
    "# say we have a state of tensor \n",
    "psi = Statevector.from_label('1').tensor(Statevector.from_label('1'))\n",
    "state = psi.evolve(cx_custom)\n",
    "print(\"evolved state with custom_x |11>\")\n",
    "display(state.draw('latex'))\n",
    "state = psi.evolve(myQc)\n",
    "print(\"evolved state with qc_x |11>\")\n",
    "display(state.draw('latex'))\n",
    "\n",
    "\n",
    "print(\"Final state\")\n",
    "\n",
    "psi = Statevector.from_label('1').tensor(Statevector.from_label('1'))\n",
    "myState = psi.evolve(qc)\n",
    "qc = qc.reverse_bits()\n",
    "print(\"evolved state with qc_x now bits reverse |11>\")\n",
    "display(myState.draw('latex'))\n",
    "\n"
   ]
  },
  {
   "cell_type": "markdown",
   "metadata": {},
   "source": [
    "- We have seen that \"In Qiskit, the qubit ordering follows little-endian convention, which means that the least significant qubit (e.g., q0q0​) corresponds to the rightmost position in the bitstring output. This is the opposite of the big-endian convention often used in textbooks, where q0q0​ is the leftmost qubit and we can reverse the bit order using qc.reverse_bits()\n"
   ]
  },
  {
   "cell_type": "markdown",
   "metadata": {},
   "source": [
    "# Partial Measurement. \n",
    "This will explore the fact that if we measure some qubits or all what differences does it have in the probabillities and how they can be measured using qiskit. "
   ]
  },
  {
   "cell_type": "code",
   "execution_count": 78,
   "metadata": {},
   "outputs": [
    {
     "data": {
      "text/latex": [
       "$$\\frac{\\sqrt{3}}{3} |001\\rangle+\\frac{\\sqrt{3}}{3} |010\\rangle+\\frac{\\sqrt{3}}{3} |100\\rangle$$"
      ],
      "text/plain": [
       "<IPython.core.display.Latex object>"
      ]
     },
     "metadata": {},
     "output_type": "display_data"
    },
    {
     "name": "stdout",
     "output_type": "stream",
     "text": [
      "Measured: 0\n",
      "State after measurement:\n"
     ]
    },
    {
     "data": {
      "text/latex": [
       "$$\\frac{\\sqrt{2}}{2} |010\\rangle+\\frac{\\sqrt{2}}{2} |100\\rangle$$"
      ],
      "text/plain": [
       "<IPython.core.display.Latex object>"
      ]
     },
     "metadata": {},
     "output_type": "display_data"
    },
    {
     "name": "stdout",
     "output_type": "stream",
     "text": [
      "The state is: valid\n",
      "\n",
      "Measured: 10\n",
      "State after measurement:\n"
     ]
    },
    {
     "data": {
      "text/latex": [
       "$$ |010\\rangle$$"
      ],
      "text/plain": [
       "<IPython.core.display.Latex object>"
      ]
     },
     "metadata": {},
     "output_type": "display_data"
    }
   ],
   "source": [
    "w = Statevector([0, 1, 1, 0, 1, 0, 0, 0] / sqrt(3))\n",
    "display(w.draw(\"latex\"))\n",
    "\n",
    "# Using the statevector to define a state. \n",
    "# the number of entries in the list square are the number qubits.\n",
    "# the entries define amplitude of the appropriate \n",
    "\n",
    "# we can see this is true by seeing. \n",
    "# c = Statevector([1,1,1,1]/sqrt(2))\n",
    "# print(\"two components\")\n",
    "# display(c.draw('latex'))\n",
    "\n",
    "\n",
    "result, state = w.measure([0])\n",
    "print(f\"Measured: {result}\\nState after measurement:\")\n",
    "display(state.draw(\"latex\"))\n",
    "print(f\"The state is: {\"valid\" if state.is_valid() else \"Invalid\"}\\n\")\n",
    "\n",
    "# As we have seen from the probabillity theory that for partial measurement\n",
    "# When measurement is made the probabillity will be the sum over the rest of the states\n",
    "# Also normalized. as we can see (1/3 + 1/3) = 2/3 and norm is sqrt(2/3)\n",
    "result, state = w.measure([0,1])\n",
    "print(f\"Measured: {result}\\nState after measurement:\")\n",
    "display(state.draw(\"latex\"))"
   ]
  },
  {
   "cell_type": "code",
   "execution_count": null,
   "metadata": {},
   "outputs": [],
   "source": []
  }
 ],
 "metadata": {
  "kernelspec": {
   "display_name": "base",
   "language": "python",
   "name": "python3"
  },
  "language_info": {
   "codemirror_mode": {
    "name": "ipython",
    "version": 3
   },
   "file_extension": ".py",
   "mimetype": "text/x-python",
   "name": "python",
   "nbconvert_exporter": "python",
   "pygments_lexer": "ipython3",
   "version": "3.12.7"
  }
 },
 "nbformat": 4,
 "nbformat_minor": 2
}
